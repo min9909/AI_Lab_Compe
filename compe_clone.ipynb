{
 "cells": [
  {
   "cell_type": "markdown",
   "metadata": {
    "id": "lHJSLwLyBjnp"
   },
   "source": [
    "# AILab 画像分類コンペティション\n",
    "\n",
    "## ルール\n",
    "検証にCIFAR10のValデータは使わないでください。\n",
    "\n",
    "(今回評価用のデータとして用いるため)\n",
    "\n",
    "モデルを評価する際は、Trainデータを分割して使ってください。"
   ]
  },
  {
   "cell_type": "code",
   "execution_count": 1,
   "metadata": {
    "id": "cTjjoBfyBjny"
   },
   "outputs": [],
   "source": [
    "#ライブラリのインポート\n",
    "import torch as torch\n",
    "import torchvision\n",
    "import torch.nn as nn\n",
    "import torch.nn.init as init\n",
    "import torch.optim as optim\n",
    "import torch.nn.functional as F\n",
    "import torchvision.transforms as transforms\n",
    "import numpy as np\n",
    "from matplotlib import pyplot as plt\n",
    "from PIL import Image\n",
    "from tqdm import tqdm\n",
    "from torchsummary import summary\n",
    "from pylab import rcParams\n",
    "\n",
    "\n",
    "from utils import make_dataset\n",
    "from utils import eval"
   ]
  },
  {
   "cell_type": "markdown",
   "metadata": {
    "id": "-I3-z91cBjn1"
   },
   "source": [
    "### 1.1. データセットの読み込み（改変不可）\n",
    "- pytorchではデータをTensor形式で扱います。(listやnumpyと似たような構造を持つ)"
   ]
  },
  {
   "cell_type": "code",
   "execution_count": 2,
   "metadata": {
    "id": "OtJ60dgnBjn2"
   },
   "outputs": [
    {
     "name": "stdout",
     "output_type": "stream",
     "text": [
      "Files already downloaded and verified\n"
     ]
    }
   ],
   "source": [
    "#このセルは改変しないで\n",
    "train_dataset=make_dataset()"
   ]
  },
  {
   "cell_type": "markdown",
   "metadata": {
    "id": "pJFiltYYBjoC"
   },
   "source": [
    "### 1.2. データセットの可視化"
   ]
  },
  {
   "cell_type": "code",
   "execution_count": 3,
   "metadata": {
    "colab": {
     "base_uri": "https://localhost:8080/",
     "height": 453
    },
    "id": "iMwzNN_IBjoD",
    "outputId": "fc04115a-9ecb-46a5-aae7-31ed8114dd44"
   },
   "outputs": [
    {
     "name": "stdout",
     "output_type": "stream",
     "text": [
      "Dataset CIFAR10\n",
      "    Number of datapoints: 50000\n",
      "    Root location: ./dataset/\n",
      "    Split: Train\n",
      "    StandardTransform\n",
      "Transform: Compose(\n",
      "               Resize(size=(64, 64), interpolation=bilinear)\n",
      "               ToTensor()\n",
      "           )\n",
      "学習画像サイズ torch.Size([3, 64, 64])\n",
      "ラベル: 9\n"
     ]
    },
    {
     "data": {
      "image/png": "[encoded data removed]",
      "text/plain": [
       "<Figure size 432x288 with 1 Axes>"
      ]
     },
     "metadata": {
      "needs_background": "light"
     },
     "output_type": "display_data"
    }
   ],
   "source": [
    "%matplotlib inline\n",
    "def show(img):\n",
    "    npimg = img.numpy() \n",
    "    plt.grid(False) \n",
    "    plt.imshow(np.transpose(npimg, (1,2,0)))\n",
    "    plt.show()\n",
    "\n",
    "print (train_dataset)\n",
    "image, label = train_dataset[1]\n",
    "print(\"学習画像サイズ\",image.size())\n",
    "print (\"ラベル:\",label)\n",
    "show(image)"
   ]
  },
  {
   "cell_type": "markdown",
   "metadata": {
    "id": "GFvZRjDUBjoH"
   },
   "source": [
    "### 1.3. データセットをミニバッチ単位に変換します。\n",
    "- **torch.utils.data.DataLoader**クラスで行います。"
   ]
  },
  {
   "cell_type": "code",
   "execution_count": 4,
   "metadata": {
    "colab": {
     "base_uri": "https://localhost:8080/"
    },
    "id": "-HhV3WIsBjoI",
    "outputId": "567b92ee-6708-4e51-880c-e9941906c0ee"
   },
   "outputs": [],
   "source": [
    "train_loader = torch.utils.data.DataLoader(dataset=train_dataset,\n",
    "                                           batch_size=32, #バッチサイズの定義\n",
    "                                           shuffle=True,\n",
    "                                          num_workers=1)\n"
   ]
  },
  {
   "cell_type": "markdown",
   "metadata": {
    "id": "zKkA-yOtBjoL"
   },
   "source": [
    "## 2.モデルの定義\n",
    "### 2.1. モデルの定義(nn.Moduleを継承したクラスでの書き方)\n",
    "- **__init__**関数でネットワーク層の定義、初期化を行います。\n",
    "- **forward**関数でモデルの入力→出力の定義、順伝搬の計算を行います。  \n",
    "    - 定義したネットワーク層に入力(x)を伝搬していきます。\n",
    "- 全結合ネットワークは**nn.Liner(入力パラメータ数、出力パラメータ数)**で定義します。\n",
    "    - 画像データを扱う場合、入力パラメータ数は**二次元データを一次元に変換**して入力します。\n",
    "    - Tensorのサイズ変換には**Tensor.view(軸について要素数を指定)**を用います。"
   ]
  },
  {
   "cell_type": "code",
   "execution_count": 5,
   "metadata": {
    "id": "IL3Vw4hm-IX0"
   },
   "outputs": [
    {
     "name": "stdout",
     "output_type": "stream",
     "text": [
      "MLP(\n",
      "  (fc1): Linear(in_features=12288, out_features=1024, bias=True)\n",
      "  (fc2): Linear(in_features=1024, out_features=10, bias=True)\n",
      ")\n"
     ]
    }
   ],
   "source": [
    "class MLP(nn.Module):\n",
    "    def __init__(self, num_classes=10):\n",
    "        super(MLP, self).__init__()#おまじない\n",
    "        self.fc1=nn.Linear(3*64*64,1024)\n",
    "        self.fc2=nn.Linear(1024,10)\n",
    "      \n",
    "    def forward(self, x):#ここで以前までの定義した関数を組み立てる\n",
    "        #print(x.size())\n",
    "        x = x.view(x.size(0),3*64*64)\n",
    "        #print(x.size())\n",
    "        x=self.fc1(x)\n",
    "        x=self.fc2(x)\n",
    "        return x\n",
    "\n",
    "print(MLP())\n",
    "device = 'cuda' if torch.cuda.is_available() else 'cpu' #GPUの定義\n",
    "net = MLP().to(device)#モデルをインスタンス"
   ]
  },
  {
   "cell_type": "markdown",
   "metadata": {
    "id": "FLrQHdL7BjoQ"
   },
   "source": [
    "### 2.2. モデルの可視化\n",
    "- summary(モデル,入力サイズ(チャンネル数、パラメータ数))クラスで可視化を行います。"
   ]
  },
  {
   "cell_type": "code",
   "execution_count": 6,
   "metadata": {
    "colab": {
     "base_uri": "https://localhost:8080/"
    },
    "id": "rAHTUjZrBjoQ",
    "outputId": "23bdc152-0b95-4af7-d568-13dd8947bf83"
   },
   "outputs": [
    {
     "name": "stdout",
     "output_type": "stream",
     "text": [
      "----------------------------------------------------------------\n",
      "        Layer (type)               Output Shape         Param #\n",
      "================================================================\n",
      "            Linear-1                 [-1, 1024]      12,583,936\n",
      "            Linear-2                   [-1, 10]          10,250\n",
      "================================================================\n",
      "Total params: 12,594,186\n",
      "Trainable params: 12,594,186\n",
      "Non-trainable params: 0\n",
      "----------------------------------------------------------------\n",
      "Input size (MB): 0.05\n",
      "Forward/backward pass size (MB): 0.01\n",
      "Params size (MB): 48.04\n",
      "Estimated Total Size (MB): 48.10\n",
      "----------------------------------------------------------------\n"
     ]
    }
   ],
   "source": [
    "summary(net, input_size=(3,64,64))"
   ]
  },
  {
   "cell_type": "markdown",
   "metadata": {
    "id": "GkOyYt_TBjoT"
   },
   "source": [
    "## 3. モデルの学習\n",
    "### 3.1. 損失関数、最適化法(オプティマイザー)の定義\n",
    "- 損失関数は**nn.CrossEntropyLoss()**(ソフトマックス+交差エントロピー)を用います。\n",
    "- 最適化法には**optim.SGD(適用するモデルの重み、その他ハイパーパラメータの設定・・・)**を用います。"
   ]
  },
  {
   "cell_type": "code",
   "execution_count": 7,
   "metadata": {
    "id": "EsYsLJdyBjoU"
   },
   "outputs": [],
   "source": [
    "criterion = nn.CrossEntropyLoss()\n",
    "optimizer = optim.SGD(net.parameters(), lr=0.01, momentum=0.9, weight_decay=5e-4)"
   ]
  },
  {
   "cell_type": "markdown",
   "metadata": {
    "id": "AyXqyVoyBjoX"
   },
   "source": [
    "### 3.2. 学習の流れ(エポック単位)\n",
    "- ①画像データと正解ラベルを取り出す\n",
    "    - tqdmはjupyter内にプログレスバー(進行度)を表示する\n",
    "- ②画像データとラベルデータ(共にバッチ単位)をデバイス(GPU)に移動\n",
    "- ③勾配の初期化\n",
    "- ④モデルの推測(画像データ→各クラスである確率)\n",
    "- ⑤損失の計算\n",
    "- ⑥⑤で求めた損失をエポックでの累計損失に加える\n",
    "    - Tensorから値を取得する場合は、1次元(1要素)に指定してから.item()で取得する必要がある\n",
    "- ⑦正答率の計算(出力の最大値のインデックスが正解ラベルの場合1を出力をバッチサイズ分行う(.sum())\n",
    "    - (.maxは()で比較する値の軸を選び、[0]に最大値の値、[1]に最大値のインデックスを持つ)\n",
    "- ⑧逆伝搬の計算\n",
    "- ⑨勾配の更新<br>\n",
    "\n",
    "---全バッチで行う---\n",
    "- ⑩エポックでの平均誤差の計算\n",
    "- ⑪エポックでの平均正答率の計算\n",
    "- 検証データでの損失、精度を学習時と同じアルゴリズムで検証(逆伝搬、勾配の更新は行わない)\n",
    "\n",
    "*1:学習時には.train()で学習に関連する機能を有効にします。   \n",
    "*2:検証時には.eval()で学習に関連する機能を有効に、torch.no_grad()で自動微分を停止してから検証を行います。"
   ]
  },
  {
   "cell_type": "code",
   "execution_count": 8,
   "metadata": {
    "colab": {
     "base_uri": "https://localhost:8080/",
     "height": 516,
     "referenced_widgets": [
      "7e1df73c0ce7461ca51306ea0559cdf4",
      "367c4bfa30844860b62f624b0ddff71d",
      "8708feae9fea42168a31e1285ca259cb",
      "baf05b7decab408f9143d5f27a14a85b",
      "6ef8358030044d18a200bede11d2f453",
      "72b9324eb9374f8394b987a91bb26dd2",
      "1f644e033c1e46bdbfe86f7228087ef6",
      "f23c9e33a36b474aade183f1640ee5a4"
     ]
    },
    "id": "FnxAYcG8BjoY",
    "outputId": "597e0ce1-3b46-4a76-ef50-acf63ccfb3e3"
   },
   "outputs": [
    {
     "name": "stdout",
     "output_type": "stream",
     "text": [
      "Epoch [1/3], Loss: 0.0640\n",
      "Epoch [2/3], Loss: 0.0635\n",
      "Epoch [3/3], Loss: 0.0625\n"
     ]
    }
   ],
   "source": [
    "num_epochs = 3 #学習エポックの設定\n",
    "\n",
    "#グラフ作成のためにエポックごとの各値を保存する配列を作成\n",
    "train_loss_list = []\n",
    "train_acc_list = []\n",
    "\n",
    "\n",
    "#学習の定義\n",
    "for epoch in range(num_epochs):\n",
    "    train_loss = 0\n",
    "    train_acc = 0\n",
    "    i=0#学習回数\n",
    "    \n",
    "    net.train() #train *1\n",
    "    for (images, labels) in train_loader: #①\n",
    "        images, labels = images.to(device), labels.to(device) #②\n",
    "        optimizer.zero_grad() #③\n",
    "        outputs = net(images) #④\n",
    "        loss = criterion(outputs, labels)#⑤\n",
    "        train_loss += loss.item()#⑥\n",
    "        train_acc += (outputs.max(1)[1] == labels).sum().item() #⑦\n",
    "        loss.backward()#⑧\n",
    "        optimizer.step()#⑨\n",
    "        \n",
    "        \n",
    "    \n",
    "    avg_train_loss = train_loss / len(train_loader.dataset) #⑩\n",
    "    avg_train_acc = train_acc / len(train_loader.dataset)   #⑪\n",
    "    \n",
    "    print ('Epoch [{}/{}], Loss: {loss:.4f}' \n",
    "                   .format(epoch+1, num_epochs, i+1, loss=avg_train_loss,))\n",
    "    #グラフ壁画用に各値を配列に格納\n",
    "    train_loss_list.append(avg_train_loss)\n",
    "    train_acc_list.append(avg_train_acc)"
   ]
  },
  {
   "cell_type": "markdown",
   "metadata": {
    "id": "CAbATIl2Bjob"
   },
   "source": [
    "## 4. 学習記録のグラフ化\n",
    "- matplotlibを用います。"
   ]
  },
  {
   "cell_type": "code",
   "execution_count": 9,
   "metadata": {
    "id": "zlc4MPFzBjod"
   },
   "outputs": [
    {
     "data": {
      "image/png": "[encoded data removed]",
      "text/plain": [
       "<Figure size 432x288 with 1 Axes>"
      ]
     },
     "metadata": {
      "needs_background": "light"
     },
     "output_type": "display_data"
    },
    {
     "data": {
      "image/png": "[encoded data removed]",
      "text/plain": [
       "<Figure size 432x288 with 1 Axes>"
      ]
     },
     "metadata": {
      "needs_background": "light"
     },
     "output_type": "display_data"
    }
   ],
   "source": [
    "#学習のグラフ化\n",
    "plt.figure()\n",
    "plt.plot(range(num_epochs), train_loss_list, color='blue', linestyle='-', label='train_loss')\n",
    "plt.legend()\n",
    "plt.xlabel('epoch')\n",
    "plt.ylabel('loss')\n",
    "plt.title('Training loss')\n",
    "plt.grid()\n",
    "\n",
    "plt.figure()\n",
    "plt.plot(range(num_epochs), train_acc_list, color='blue', linestyle='-', label='train_acc')\n",
    "plt.legend()\n",
    "plt.xlabel('epoch')\n",
    "plt.ylabel('acc')\n",
    "plt.title('Training accuracy')\n",
    "plt.grid()"
   ]
  },
  {
   "cell_type": "code",
   "execution_count": null,
   "metadata": {},
   "outputs": [],
   "source": []
  },
  {
   "cell_type": "markdown",
   "metadata": {},
   "source": [
    "## 評価用セル(改変不可)"
   ]
  },
  {
   "cell_type": "code",
   "execution_count": 10,
   "metadata": {},
   "outputs": [
    {
     "name": "stdout",
     "output_type": "stream",
     "text": [
      "Files already downloaded and verified\n",
      "スコア 0.3187\n"
     ]
    }
   ],
   "source": [
    "\n",
    "score=eval(net)\n",
    "print(\"スコア\",score)"
   ]
  },
  {
   "cell_type": "code",
   "execution_count": null,
   "metadata": {},
   "outputs": [],
   "source": []
  }
 ],
 "metadata": {
  "colab": {
   "collapsed_sections": [],
   "name": "pytorch_cnn.ipynb",
   "provenance": []
  },
  "kernelspec": {
   "display_name": "Python 3 (ipykernel)",
   "language": "python",
   "name": "python3"
  },
  "language_info": {
   "codemirror_mode": {
    "name": "ipython",
    "version": 3
   },
   "file_extension": ".py",
   "mimetype": "text/x-python",
   "name": "python",
   "nbconvert_exporter": "python",
   "pygments_lexer": "ipython3",
   "version": "3.8.0"
  },
  "widgets": {
   "application/vnd.jupyter.widget-state+json": {
    "056b1a5f2c3340edbdf2d7c9b094c8dc": {
     "model_module": "@jupyter-widgets/base",
     "model_module_version": "1.2.0",
     "model_name": "LayoutModel",
     "state": {
      "_model_module": "@jupyter-widgets/base",
      "_model_module_version": "1.2.0",
      "_model_name": "LayoutModel",
      "_view_count": null,
      "_view_module": "@jupyter-widgets/base",
      "_view_module_version": "1.2.0",
      "_view_name": "LayoutView",
      "align_content": null,
      "align_items": null,
      "align_self": null,
      "border": null,
      "bottom": null,
      "display": null,
      "flex": null,
      "flex_flow": null,
      "grid_area": null,
      "grid_auto_columns": null,
      "grid_auto_flow": null,
      "grid_auto_rows": null,
      "grid_column": null,
      "grid_gap": null,
      "grid_row": null,
      "grid_template_areas": null,
      "grid_template_columns": null,
      "grid_template_rows": null,
      "height": null,
      "justify_content": null,
      "justify_items": null,
      "left": null,
      "margin": null,
      "max_height": null,
      "max_width": null,
      "min_height": null,
      "min_width": null,
      "object_fit": null,
      "object_position": null,
      "order": null,
      "overflow": null,
      "overflow_x": null,
      "overflow_y": null,
      "padding": null,
      "right": null,
      "top": null,
      "visibility": null,
      "width": null
     }
    },
    "1f644e033c1e46bdbfe86f7228087ef6": {
     "model_module": "@jupyter-widgets/controls",
     "model_module_version": "1.5.0",
     "model_name": "DescriptionStyleModel",
     "state": {
      "_model_module": "@jupyter-widgets/controls",
      "_model_module_version": "1.5.0",
      "_model_name": "DescriptionStyleModel",
      "_view_count": null,
      "_view_module": "@jupyter-widgets/base",
      "_view_module_version": "1.2.0",
      "_view_name": "StyleView",
      "description_width": ""
     }
    },
    "367c4bfa30844860b62f624b0ddff71d": {
     "model_module": "@jupyter-widgets/base",
     "model_module_version": "1.2.0",
     "model_name": "LayoutModel",
     "state": {
      "_model_module": "@jupyter-widgets/base",
      "_model_module_version": "1.2.0",
      "_model_name": "LayoutModel",
      "_view_count": null,
      "_view_module": "@jupyter-widgets/base",
      "_view_module_version": "1.2.0",
      "_view_name": "LayoutView",
      "align_content": null,
      "align_items": null,
      "align_self": null,
      "border": null,
      "bottom": null,
      "display": null,
      "flex": null,
      "flex_flow": null,
      "grid_area": null,
      "grid_auto_columns": null,
      "grid_auto_flow": null,
      "grid_auto_rows": null,
      "grid_column": null,
      "grid_gap": null,
      "grid_row": null,
      "grid_template_areas": null,
      "grid_template_columns": null,
      "grid_template_rows": null,
      "height": null,
      "justify_content": null,
      "justify_items": null,
      "left": null,
      "margin": null,
      "max_height": null,
      "max_width": null,
      "min_height": null,
      "min_width": null,
      "object_fit": null,
      "object_position": null,
      "order": null,
      "overflow": null,
      "overflow_x": null,
      "overflow_y": null,
      "padding": null,
      "right": null,
      "top": null,
      "visibility": null,
      "width": null
     }
    },
    "5291cc5a45484153900e7c9658477e75": {
     "model_module": "@jupyter-widgets/base",
     "model_module_version": "1.2.0",
     "model_name": "LayoutModel",
     "state": {
      "_model_module": "@jupyter-widgets/base",
      "_model_module_version": "1.2.0",
      "_model_name": "LayoutModel",
      "_view_count": null,
      "_view_module": "@jupyter-widgets/base",
      "_view_module_version": "1.2.0",
      "_view_name": "LayoutView",
      "align_content": null,
      "align_items": null,
      "align_self": null,
      "border": null,
      "bottom": null,
      "display": null,
      "flex": null,
      "flex_flow": null,
      "grid_area": null,
      "grid_auto_columns": null,
      "grid_auto_flow": null,
      "grid_auto_rows": null,
      "grid_column": null,
      "grid_gap": null,
      "grid_row": null,
      "grid_template_areas": null,
      "grid_template_columns": null,
      "grid_template_rows": null,
      "height": null,
      "justify_content": null,
      "justify_items": null,
      "left": null,
      "margin": null,
      "max_height": null,
      "max_width": null,
      "min_height": null,
      "min_width": null,
      "object_fit": null,
      "object_position": null,
      "order": null,
      "overflow": null,
      "overflow_x": null,
      "overflow_y": null,
      "padding": null,
      "right": null,
      "top": null,
      "visibility": null,
      "width": null
     }
    },
    "6ef8358030044d18a200bede11d2f453": {
     "model_module": "@jupyter-widgets/controls",
     "model_module_version": "1.5.0",
     "model_name": "ProgressStyleModel",
     "state": {
      "_model_module": "@jupyter-widgets/controls",
      "_model_module_version": "1.5.0",
      "_model_name": "ProgressStyleModel",
      "_view_count": null,
      "_view_module": "@jupyter-widgets/base",
      "_view_module_version": "1.2.0",
      "_view_name": "StyleView",
      "bar_color": null,
      "description_width": "initial"
     }
    },
    "7074fa6a34564802ab1239a254f90bf6": {
     "model_module": "@jupyter-widgets/base",
     "model_module_version": "1.2.0",
     "model_name": "LayoutModel",
     "state": {
      "_model_module": "@jupyter-widgets/base",
      "_model_module_version": "1.2.0",
      "_model_name": "LayoutModel",
      "_view_count": null,
      "_view_module": "@jupyter-widgets/base",
      "_view_module_version": "1.2.0",
      "_view_name": "LayoutView",
      "align_content": null,
      "align_items": null,
      "align_self": null,
      "border": null,
      "bottom": null,
      "display": null,
      "flex": null,
      "flex_flow": null,
      "grid_area": null,
      "grid_auto_columns": null,
      "grid_auto_flow": null,
      "grid_auto_rows": null,
      "grid_column": null,
      "grid_gap": null,
      "grid_row": null,
      "grid_template_areas": null,
      "grid_template_columns": null,
      "grid_template_rows": null,
      "height": null,
      "justify_content": null,
      "justify_items": null,
      "left": null,
      "margin": null,
      "max_height": null,
      "max_width": null,
      "min_height": null,
      "min_width": null,
      "object_fit": null,
      "object_position": null,
      "order": null,
      "overflow": null,
      "overflow_x": null,
      "overflow_y": null,
      "padding": null,
      "right": null,
      "top": null,
      "visibility": null,
      "width": null
     }
    },
    "72b9324eb9374f8394b987a91bb26dd2": {
     "model_module": "@jupyter-widgets/base",
     "model_module_version": "1.2.0",
     "model_name": "LayoutModel",
     "state": {
      "_model_module": "@jupyter-widgets/base",
      "_model_module_version": "1.2.0",
      "_model_name": "LayoutModel",
      "_view_count": null,
      "_view_module": "@jupyter-widgets/base",
      "_view_module_version": "1.2.0",
      "_view_name": "LayoutView",
      "align_content": null,
      "align_items": null,
      "align_self": null,
      "border": null,
      "bottom": null,
      "display": null,
      "flex": null,
      "flex_flow": null,
      "grid_area": null,
      "grid_auto_columns": null,
      "grid_auto_flow": null,
      "grid_auto_rows": null,
      "grid_column": null,
      "grid_gap": null,
      "grid_row": null,
      "grid_template_areas": null,
      "grid_template_columns": null,
      "grid_template_rows": null,
      "height": null,
      "justify_content": null,
      "justify_items": null,
      "left": null,
      "margin": null,
      "max_height": null,
      "max_width": null,
      "min_height": null,
      "min_width": null,
      "object_fit": null,
      "object_position": null,
      "order": null,
      "overflow": null,
      "overflow_x": null,
      "overflow_y": null,
      "padding": null,
      "right": null,
      "top": null,
      "visibility": null,
      "width": null
     }
    },
    "76746f7c45754c57ab78ea081107b4c1": {
     "model_module": "@jupyter-widgets/controls",
     "model_module_version": "1.5.0",
     "model_name": "FloatProgressModel",
     "state": {
      "_dom_classes": [],
      "_model_module": "@jupyter-widgets/controls",
      "_model_module_version": "1.5.0",
      "_model_name": "FloatProgressModel",
      "_view_count": null,
      "_view_module": "@jupyter-widgets/controls",
      "_view_module_version": "1.5.0",
      "_view_name": "ProgressView",
      "bar_style": "success",
      "description": "",
      "description_tooltip": null,
      "layout": "IPY_MODEL_7074fa6a34564802ab1239a254f90bf6",
      "max": 170498071,
      "min": 0,
      "orientation": "horizontal",
      "style": "IPY_MODEL_da2b2f4c59b94d868c1064e56fca8a73",
      "value": 170498071
     }
    },
    "7e1df73c0ce7461ca51306ea0559cdf4": {
     "model_module": "@jupyter-widgets/controls",
     "model_module_version": "1.5.0",
     "model_name": "HBoxModel",
     "state": {
      "_dom_classes": [],
      "_model_module": "@jupyter-widgets/controls",
      "_model_module_version": "1.5.0",
      "_model_name": "HBoxModel",
      "_view_count": null,
      "_view_module": "@jupyter-widgets/controls",
      "_view_module_version": "1.5.0",
      "_view_name": "HBoxView",
      "box_style": "",
      "children": [
       "IPY_MODEL_8708feae9fea42168a31e1285ca259cb",
       "IPY_MODEL_baf05b7decab408f9143d5f27a14a85b"
      ],
      "layout": "IPY_MODEL_367c4bfa30844860b62f624b0ddff71d"
     }
    },
    "8708feae9fea42168a31e1285ca259cb": {
     "model_module": "@jupyter-widgets/controls",
     "model_module_version": "1.5.0",
     "model_name": "FloatProgressModel",
     "state": {
      "_dom_classes": [],
      "_model_module": "@jupyter-widgets/controls",
      "_model_module_version": "1.5.0",
      "_model_name": "FloatProgressModel",
      "_view_count": null,
      "_view_module": "@jupyter-widgets/controls",
      "_view_module_version": "1.5.0",
      "_view_name": "ProgressView",
      "bar_style": "danger",
      "description": "  0%",
      "description_tooltip": null,
      "layout": "IPY_MODEL_72b9324eb9374f8394b987a91bb26dd2",
      "max": 782,
      "min": 0,
      "orientation": "horizontal",
      "style": "IPY_MODEL_6ef8358030044d18a200bede11d2f453",
      "value": 1
     }
    },
    "8d33bbf004524bfa83982c489c6bfefa": {
     "model_module": "@jupyter-widgets/controls",
     "model_module_version": "1.5.0",
     "model_name": "HBoxModel",
     "state": {
      "_dom_classes": [],
      "_model_module": "@jupyter-widgets/controls",
      "_model_module_version": "1.5.0",
      "_model_name": "HBoxModel",
      "_view_count": null,
      "_view_module": "@jupyter-widgets/controls",
      "_view_module_version": "1.5.0",
      "_view_name": "HBoxView",
      "box_style": "",
      "children": [
       "IPY_MODEL_76746f7c45754c57ab78ea081107b4c1",
       "IPY_MODEL_b317994d1c664e45931b198c4a0801e3"
      ],
      "layout": "IPY_MODEL_056b1a5f2c3340edbdf2d7c9b094c8dc"
     }
    },
    "b317994d1c664e45931b198c4a0801e3": {
     "model_module": "@jupyter-widgets/controls",
     "model_module_version": "1.5.0",
     "model_name": "HTMLModel",
     "state": {
      "_dom_classes": [],
      "_model_module": "@jupyter-widgets/controls",
      "_model_module_version": "1.5.0",
      "_model_name": "HTMLModel",
      "_view_count": null,
      "_view_module": "@jupyter-widgets/controls",
      "_view_module_version": "1.5.0",
      "_view_name": "HTMLView",
      "description": "",
      "description_tooltip": null,
      "layout": "IPY_MODEL_5291cc5a45484153900e7c9658477e75",
      "placeholder": "​",
      "style": "IPY_MODEL_d36b415a75e344eb8774763b86956b51",
      "value": " 170499072/? [00:07&lt;00:00, 23518015.16it/s]"
     }
    },
    "baf05b7decab408f9143d5f27a14a85b": {
     "model_module": "@jupyter-widgets/controls",
     "model_module_version": "1.5.0",
     "model_name": "HTMLModel",
     "state": {
      "_dom_classes": [],
      "_model_module": "@jupyter-widgets/controls",
      "_model_module_version": "1.5.0",
      "_model_name": "HTMLModel",
      "_view_count": null,
      "_view_module": "@jupyter-widgets/controls",
      "_view_module_version": "1.5.0",
      "_view_name": "HTMLView",
      "description": "",
      "description_tooltip": null,
      "layout": "IPY_MODEL_f23c9e33a36b474aade183f1640ee5a4",
      "placeholder": "​",
      "style": "IPY_MODEL_1f644e033c1e46bdbfe86f7228087ef6",
      "value": " 1/782 [00:16&lt;3:39:34, 16.87s/it]"
     }
    },
    "d36b415a75e344eb8774763b86956b51": {
     "model_module": "@jupyter-widgets/controls",
     "model_module_version": "1.5.0",
     "model_name": "DescriptionStyleModel",
     "state": {
      "_model_module": "@jupyter-widgets/controls",
      "_model_module_version": "1.5.0",
      "_model_name": "DescriptionStyleModel",
      "_view_count": null,
      "_view_module": "@jupyter-widgets/base",
      "_view_module_version": "1.2.0",
      "_view_name": "StyleView",
      "description_width": ""
     }
    },
    "da2b2f4c59b94d868c1064e56fca8a73": {
     "model_module": "@jupyter-widgets/controls",
     "model_module_version": "1.5.0",
     "model_name": "ProgressStyleModel",
     "state": {
      "_model_module": "@jupyter-widgets/controls",
      "_model_module_version": "1.5.0",
      "_model_name": "ProgressStyleModel",
      "_view_count": null,
      "_view_module": "@jupyter-widgets/base",
      "_view_module_version": "1.2.0",
      "_view_name": "StyleView",
      "bar_color": null,
      "description_width": "initial"
     }
    },
    "f23c9e33a36b474aade183f1640ee5a4": {
     "model_module": "@jupyter-widgets/base",
     "model_module_version": "1.2.0",
     "model_name": "LayoutModel",
     "state": {
      "_model_module": "@jupyter-widgets/base",
      "_model_module_version": "1.2.0",
      "_model_name": "LayoutModel",
      "_view_count": null,
      "_view_module": "@jupyter-widgets/base",
      "_view_module_version": "1.2.0",
      "_view_name": "LayoutView",
      "align_content": null,
      "align_items": null,
      "align_self": null,
      "border": null,
      "bottom": null,
      "display": null,
      "flex": null,
      "flex_flow": null,
      "grid_area": null,
      "grid_auto_columns": null,
      "grid_auto_flow": null,
      "grid_auto_rows": null,
      "grid_column": null,
      "grid_gap": null,
      "grid_row": null,
      "grid_template_areas": null,
      "grid_template_columns": null,
      "grid_template_rows": null,
      "height": null,
      "justify_content": null,
      "justify_items": null,
      "left": null,
      "margin": null,
      "max_height": null,
      "max_width": null,
      "min_height": null,
      "min_width": null,
      "object_fit": null,
      "object_position": null,
      "order": null,
      "overflow": null,
      "overflow_x": null,
      "overflow_y": null,
      "padding": null,
      "right": null,
      "top": null,
      "visibility": null,
      "width": null
     }
    }
   }
  }
 },
 "nbformat": 4,
 "nbformat_minor": 4
}
